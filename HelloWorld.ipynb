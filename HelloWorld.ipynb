{
 "cells": [
  {
   "cell_type": "code",
   "execution_count": 1,
   "id": "3960b549-1f68-4285-8e1a-4263bf6400d2",
   "metadata": {},
   "outputs": [
    {
     "name": "stdout",
     "output_type": "stream",
     "text": [
      "Hello, world!\n"
     ]
    }
   ],
   "source": [
    "print(\"Hello, world!\")"
   ]
  },
  {
   "cell_type": "code",
   "execution_count": 2,
   "id": "907897e2-d0f3-4835-90b1-6da9af5c6bc1",
   "metadata": {},
   "outputs": [],
   "source": [
    "my_name = \"Amanda\""
   ]
  },
  {
   "cell_type": "code",
   "execution_count": 3,
   "id": "981bd952",
   "metadata": {},
   "outputs": [
    {
     "data": {
      "text/plain": [
       "2203108854160"
      ]
     },
     "execution_count": 3,
     "metadata": {},
     "output_type": "execute_result"
    }
   ],
   "source": [
    "id(my_name)"
   ]
  },
  {
   "cell_type": "code",
   "execution_count": 4,
   "id": "58a6ade7",
   "metadata": {},
   "outputs": [
    {
     "data": {
      "text/plain": [
       "str"
      ]
     },
     "execution_count": 4,
     "metadata": {},
     "output_type": "execute_result"
    }
   ],
   "source": [
    "type(my_name)"
   ]
  },
  {
   "cell_type": "code",
   "execution_count": 5,
   "id": "7d2bbb7b",
   "metadata": {},
   "outputs": [
    {
     "name": "stdout",
     "output_type": "stream",
     "text": [
      "Amanda\n"
     ]
    }
   ],
   "source": [
    "print(my_name)"
   ]
  },
  {
   "cell_type": "code",
   "execution_count": 7,
   "id": "9eb6ac1f",
   "metadata": {},
   "outputs": [
    {
     "data": {
      "text/plain": [
       "'Amanda'"
      ]
     },
     "execution_count": 7,
     "metadata": {},
     "output_type": "execute_result"
    }
   ],
   "source": [
    "my_name"
   ]
  },
  {
   "cell_type": "code",
   "execution_count": 8,
   "id": "9a0aef17",
   "metadata": {},
   "outputs": [],
   "source": [
    "my_age = 48"
   ]
  },
  {
   "cell_type": "code",
   "execution_count": 9,
   "id": "65a20fa5",
   "metadata": {},
   "outputs": [
    {
     "data": {
      "text/plain": [
       "str"
      ]
     },
     "execution_count": 9,
     "metadata": {},
     "output_type": "execute_result"
    }
   ],
   "source": [
    "type(my_name)"
   ]
  },
  {
   "cell_type": "code",
   "execution_count": 10,
   "id": "41c18690",
   "metadata": {},
   "outputs": [
    {
     "data": {
      "text/plain": [
       "int"
      ]
     },
     "execution_count": 10,
     "metadata": {},
     "output_type": "execute_result"
    }
   ],
   "source": [
    "type(my_age)"
   ]
  },
  {
   "cell_type": "code",
   "execution_count": 11,
   "id": "d5bb84aa",
   "metadata": {},
   "outputs": [
    {
     "data": {
      "text/plain": [
       "'AMANDA'"
      ]
     },
     "execution_count": 11,
     "metadata": {},
     "output_type": "execute_result"
    }
   ],
   "source": [
    "my_name.upper()"
   ]
  },
  {
   "cell_type": "code",
   "execution_count": 13,
   "id": "5a5932ed",
   "metadata": {},
   "outputs": [
    {
     "data": {
      "text/plain": [
       "1976"
      ]
     },
     "execution_count": 13,
     "metadata": {},
     "output_type": "execute_result"
    }
   ],
   "source": [
    "2024 - my_age"
   ]
  },
  {
   "cell_type": "code",
   "execution_count": 14,
   "id": "7ee5c78b",
   "metadata": {},
   "outputs": [],
   "source": [
    "a = 42\n",
    "b = \"23\""
   ]
  },
  {
   "cell_type": "code",
   "execution_count": 15,
   "id": "e64f763f",
   "metadata": {},
   "outputs": [
    {
     "data": {
      "text/plain": [
       "(int, str)"
      ]
     },
     "execution_count": 15,
     "metadata": {},
     "output_type": "execute_result"
    }
   ],
   "source": [
    "type(a), type(b)"
   ]
  },
  {
   "cell_type": "code",
   "execution_count": 18,
   "id": "c6adc509",
   "metadata": {},
   "outputs": [
    {
     "data": {
      "text/plain": [
       "23"
      ]
     },
     "execution_count": 18,
     "metadata": {},
     "output_type": "execute_result"
    }
   ],
   "source": [
    "int(b)\n"
   ]
  },
  {
   "cell_type": "code",
   "execution_count": 19,
   "id": "458b6ca5",
   "metadata": {},
   "outputs": [
    {
     "data": {
      "text/plain": [
       "'4223'"
      ]
     },
     "execution_count": 19,
     "metadata": {},
     "output_type": "execute_result"
    }
   ],
   "source": [
    "\"42\" + \"23\""
   ]
  },
  {
   "cell_type": "code",
   "execution_count": 24,
   "id": "1b9246b6",
   "metadata": {},
   "outputs": [
    {
     "data": {
      "text/plain": [
       "'4223 4223 4223 '"
      ]
     },
     "execution_count": 24,
     "metadata": {},
     "output_type": "execute_result"
    }
   ],
   "source": [
    "(\"42\" + \"23\" + \" \") * 3"
   ]
  },
  {
   "cell_type": "code",
   "execution_count": 25,
   "id": "0fd30b20",
   "metadata": {},
   "outputs": [],
   "source": [
    "c = 2.72"
   ]
  },
  {
   "cell_type": "code",
   "execution_count": 26,
   "id": "7624b390",
   "metadata": {},
   "outputs": [
    {
     "data": {
      "text/plain": [
       "float"
      ]
     },
     "execution_count": 26,
     "metadata": {},
     "output_type": "execute_result"
    }
   ],
   "source": [
    "type(c)"
   ]
  },
  {
   "cell_type": "code",
   "execution_count": 29,
   "id": "998cfc19",
   "metadata": {},
   "outputs": [],
   "source": [
    "my_list = [1, 3, 78, 'thing']"
   ]
  },
  {
   "cell_type": "code",
   "execution_count": 30,
   "id": "f2ac4938",
   "metadata": {},
   "outputs": [
    {
     "data": {
      "text/plain": [
       "[1, 3, 78, 'thing']"
      ]
     },
     "execution_count": 30,
     "metadata": {},
     "output_type": "execute_result"
    }
   ],
   "source": [
    "my_list"
   ]
  },
  {
   "cell_type": "code",
   "execution_count": 31,
   "id": "667d3faf",
   "metadata": {},
   "outputs": [],
   "source": [
    "my_list.append('one last thing')"
   ]
  },
  {
   "cell_type": "code",
   "execution_count": 32,
   "id": "f7084247",
   "metadata": {},
   "outputs": [
    {
     "data": {
      "text/plain": [
       "[1, 3, 78, 'thing', 'one last thing']"
      ]
     },
     "execution_count": 32,
     "metadata": {},
     "output_type": "execute_result"
    }
   ],
   "source": [
    "my_list"
   ]
  },
  {
   "cell_type": "code",
   "execution_count": 33,
   "id": "3f5d7b0b",
   "metadata": {},
   "outputs": [],
   "source": [
    "my_list.insert(2, 'this was inserted')"
   ]
  },
  {
   "cell_type": "code",
   "execution_count": 34,
   "id": "978bcab0",
   "metadata": {},
   "outputs": [
    {
     "data": {
      "text/plain": [
       "[1, 3, 'this was inserted', 78, 'thing', 'one last thing']"
      ]
     },
     "execution_count": 34,
     "metadata": {},
     "output_type": "execute_result"
    }
   ],
   "source": [
    "my_list"
   ]
  },
  {
   "cell_type": "code",
   "execution_count": 35,
   "id": "6a07c4d9",
   "metadata": {},
   "outputs": [
    {
     "data": {
      "text/plain": [
       "'one last thing'"
      ]
     },
     "execution_count": 35,
     "metadata": {},
     "output_type": "execute_result"
    }
   ],
   "source": [
    "my_list[-1]"
   ]
  },
  {
   "cell_type": "code",
   "execution_count": 37,
   "id": "e12ddeed",
   "metadata": {},
   "outputs": [],
   "source": [
    "my_list_2 = [2, 56, 843, 1, 54]"
   ]
  },
  {
   "cell_type": "code",
   "execution_count": 38,
   "id": "d084388a",
   "metadata": {},
   "outputs": [
    {
     "data": {
      "text/plain": [
       "{1, 2, 54, 56, 843}"
      ]
     },
     "execution_count": 38,
     "metadata": {},
     "output_type": "execute_result"
    }
   ],
   "source": [
    "set(my_list_2)"
   ]
  },
  {
   "cell_type": "markdown",
   "id": "6642f073",
   "metadata": {},
   "source": [
    "This was lecture 1"
   ]
  },
  {
   "cell_type": "code",
   "execution_count": null,
   "id": "446eb290",
   "metadata": {},
   "outputs": [],
   "source": []
  }
 ],
 "metadata": {
  "kernelspec": {
   "display_name": "base",
   "language": "python",
   "name": "python3"
  },
  "language_info": {
   "codemirror_mode": {
    "name": "ipython",
    "version": 3
   },
   "file_extension": ".py",
   "mimetype": "text/x-python",
   "name": "python",
   "nbconvert_exporter": "python",
   "pygments_lexer": "ipython3",
   "version": "3.12.4"
  }
 },
 "nbformat": 4,
 "nbformat_minor": 5
}
