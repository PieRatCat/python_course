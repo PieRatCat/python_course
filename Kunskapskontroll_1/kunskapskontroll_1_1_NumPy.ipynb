{
 "cells": [
  {
   "cell_type": "markdown",
   "id": "dacf74e6",
   "metadata": {},
   "source": [
    "# NumPy"
   ]
  },
  {
   "cell_type": "markdown",
   "id": "01b2bf34",
   "metadata": {},
   "source": [
    "Read the links: https://numpy.org/doc/stable/user/quickstart.html  and https://numpy.org/doc/stable/user/basics.broadcasting.html  before solving the exercises. "
   ]
  },
  {
   "cell_type": "code",
   "execution_count": 90,
   "id": "1f79e4a6",
   "metadata": {},
   "outputs": [],
   "source": [
    "import numpy as np"
   ]
  },
  {
   "cell_type": "markdown",
   "id": "7dae6889",
   "metadata": {},
   "source": [
    "### Print out the dimension (number of axes), shape, size and the datatype of the matrix A."
   ]
  },
  {
   "cell_type": "code",
   "execution_count": 91,
   "id": "7b3678cd",
   "metadata": {},
   "outputs": [
    {
     "name": "stdout",
     "output_type": "stream",
     "text": [
      "2\n",
      "(3, 5)\n",
      "int32\n"
     ]
    }
   ],
   "source": [
    "A = np.arange(1, 16).reshape(3,5)\n",
    "\n",
    "print(A.ndim)\n",
    "print(A.shape)\n",
    "print(A.dtype)"
   ]
  },
  {
   "cell_type": "markdown",
   "id": "e56d2a96",
   "metadata": {},
   "source": [
    "### Do the following computations on the matrices B and C: \n",
    "* Elementwise subtraction. \n",
    "* Elementwise multiplication. \n",
    "* Matrix multiplication (by default you should use the @ operator)."
   ]
  },
  {
   "cell_type": "code",
   "execution_count": 92,
   "id": "a7053fbb",
   "metadata": {},
   "outputs": [
    {
     "name": "stdout",
     "output_type": "stream",
     "text": [
      "[[1 2 3]\n",
      " [4 5 6]\n",
      " [7 8 9]]\n",
      "\n",
      "[[2. 2. 2.]\n",
      " [2. 2. 2.]\n",
      " [2. 2. 2.]]\n"
     ]
    }
   ],
   "source": [
    "B = np.arange(1, 10).reshape(3, 3)\n",
    "C = np.ones((3, 3))*2\n",
    "\n",
    "print(B)\n",
    "print()\n",
    "print(C)"
   ]
  },
  {
   "cell_type": "code",
   "execution_count": 93,
   "id": "3cd794ae",
   "metadata": {},
   "outputs": [
    {
     "data": {
      "text/plain": [
       "array([[-1.,  0.,  1.],\n",
       "       [ 2.,  3.,  4.],\n",
       "       [ 5.,  6.,  7.]])"
      ]
     },
     "execution_count": 93,
     "metadata": {},
     "output_type": "execute_result"
    }
   ],
   "source": [
    "B - C"
   ]
  },
  {
   "cell_type": "code",
   "execution_count": 94,
   "id": "7bf949aa",
   "metadata": {},
   "outputs": [
    {
     "data": {
      "text/plain": [
       "array([[ 2.,  4.,  6.],\n",
       "       [ 8., 10., 12.],\n",
       "       [14., 16., 18.]])"
      ]
     },
     "execution_count": 94,
     "metadata": {},
     "output_type": "execute_result"
    }
   ],
   "source": [
    "B * C"
   ]
  },
  {
   "cell_type": "code",
   "execution_count": 95,
   "id": "b5d4bb20",
   "metadata": {},
   "outputs": [
    {
     "data": {
      "text/plain": [
       "array([[12., 12., 12.],\n",
       "       [30., 30., 30.],\n",
       "       [48., 48., 48.]])"
      ]
     },
     "execution_count": 95,
     "metadata": {},
     "output_type": "execute_result"
    }
   ],
   "source": [
    "B @ C"
   ]
  },
  {
   "cell_type": "markdown",
   "id": "96030d53",
   "metadata": {},
   "source": [
    "### Do the following calculations on the matrix:\n",
    "* Exponentiate each number elementwise (use the np.exp function).\n",
    "\n",
    "* Calculate the minimum value in the whole matrix. \n",
    "* Calculcate the minimum value in each row. \n",
    "* Calculcate the minimum value in each column. \n",
    "\n",
    "\n",
    "* Find the index value for the minimum value in the whole matrix (hint: use np.argmin).\n",
    "* Find the index value for the minimum value in each row (hint: use np.argmin).\n",
    "\n",
    "\n",
    "* Calculate the sum for all elements.\n",
    "* Calculate the mean for each column. \n",
    "* Calculate the median for each column. "
   ]
  },
  {
   "cell_type": "code",
   "execution_count": 96,
   "id": "f8a9166b",
   "metadata": {},
   "outputs": [
    {
     "name": "stdout",
     "output_type": "stream",
     "text": [
      "[[1 2 3]\n",
      " [4 5 6]\n",
      " [7 8 9]]\n"
     ]
    }
   ],
   "source": [
    "B = np.arange(1, 10).reshape(3, 3)\n",
    "print(B)"
   ]
  },
  {
   "cell_type": "code",
   "execution_count": 97,
   "id": "f03f24f7",
   "metadata": {},
   "outputs": [
    {
     "data": {
      "text/plain": [
       "array([[2.71828183e+00, 7.38905610e+00, 2.00855369e+01],\n",
       "       [5.45981500e+01, 1.48413159e+02, 4.03428793e+02],\n",
       "       [1.09663316e+03, 2.98095799e+03, 8.10308393e+03]])"
      ]
     },
     "execution_count": 97,
     "metadata": {},
     "output_type": "execute_result"
    }
   ],
   "source": [
    "np.exp(B)"
   ]
  },
  {
   "cell_type": "code",
   "execution_count": 98,
   "id": "bce78acb",
   "metadata": {},
   "outputs": [
    {
     "data": {
      "text/plain": [
       "1"
      ]
     },
     "execution_count": 98,
     "metadata": {},
     "output_type": "execute_result"
    }
   ],
   "source": [
    "np.min(B)"
   ]
  },
  {
   "cell_type": "code",
   "execution_count": 99,
   "id": "82611474",
   "metadata": {},
   "outputs": [
    {
     "data": {
      "text/plain": [
       "array([1, 4, 7])"
      ]
     },
     "execution_count": 99,
     "metadata": {},
     "output_type": "execute_result"
    }
   ],
   "source": [
    "np.min(B, axis=1)"
   ]
  },
  {
   "cell_type": "code",
   "execution_count": 100,
   "id": "2565b779",
   "metadata": {},
   "outputs": [
    {
     "data": {
      "text/plain": [
       "array([1, 2, 3])"
      ]
     },
     "execution_count": 100,
     "metadata": {},
     "output_type": "execute_result"
    }
   ],
   "source": [
    "np.min(B, axis=0)"
   ]
  },
  {
   "cell_type": "code",
   "execution_count": 101,
   "id": "fb70c589",
   "metadata": {},
   "outputs": [
    {
     "data": {
      "text/plain": [
       "0"
      ]
     },
     "execution_count": 101,
     "metadata": {},
     "output_type": "execute_result"
    }
   ],
   "source": [
    "np.argmin(B)"
   ]
  },
  {
   "cell_type": "code",
   "execution_count": 102,
   "id": "808cec92",
   "metadata": {},
   "outputs": [
    {
     "data": {
      "text/plain": [
       "array([0, 0, 0], dtype=int64)"
      ]
     },
     "execution_count": 102,
     "metadata": {},
     "output_type": "execute_result"
    }
   ],
   "source": [
    "np.argmin(B, axis=1)"
   ]
  },
  {
   "cell_type": "code",
   "execution_count": 103,
   "id": "7c44fc64",
   "metadata": {},
   "outputs": [
    {
     "data": {
      "text/plain": [
       "45"
      ]
     },
     "execution_count": 103,
     "metadata": {},
     "output_type": "execute_result"
    }
   ],
   "source": [
    "np.sum(B)"
   ]
  },
  {
   "cell_type": "code",
   "execution_count": 104,
   "id": "4ac9ef3f",
   "metadata": {},
   "outputs": [
    {
     "data": {
      "text/plain": [
       "array([4., 5., 6.])"
      ]
     },
     "execution_count": 104,
     "metadata": {},
     "output_type": "execute_result"
    }
   ],
   "source": [
    "np.mean(B, axis=0)"
   ]
  },
  {
   "cell_type": "code",
   "execution_count": 105,
   "id": "55fbd849",
   "metadata": {},
   "outputs": [
    {
     "data": {
      "text/plain": [
       "array([4., 5., 6.])"
      ]
     },
     "execution_count": 105,
     "metadata": {},
     "output_type": "execute_result"
    }
   ],
   "source": [
    "np.median(B, axis=0)"
   ]
  },
  {
   "cell_type": "markdown",
   "id": "4a5e0599",
   "metadata": {},
   "source": []
  },
  {
   "cell_type": "markdown",
   "id": "541eb7ba",
   "metadata": {},
   "source": [
    "### What does it mean when you provide fewer indices than axes when slicing? See example below."
   ]
  },
  {
   "cell_type": "code",
   "execution_count": 106,
   "id": "9c8abf56",
   "metadata": {},
   "outputs": [
    {
     "name": "stdout",
     "output_type": "stream",
     "text": [
      "[[ 1  2  3  4  5]\n",
      " [ 6  7  8  9 10]\n",
      " [11 12 13 14 15]]\n"
     ]
    }
   ],
   "source": [
    "print(A)"
   ]
  },
  {
   "cell_type": "code",
   "execution_count": 107,
   "id": "69415f7b",
   "metadata": {},
   "outputs": [
    {
     "data": {
      "text/plain": [
       "array([ 6,  7,  8,  9, 10])"
      ]
     },
     "execution_count": 107,
     "metadata": {},
     "output_type": "execute_result"
    }
   ],
   "source": [
    "A[1]"
   ]
  },
  {
   "cell_type": "markdown",
   "id": "6c53541b",
   "metadata": {},
   "source": [
    "**Answer:**"
   ]
  },
  {
   "cell_type": "markdown",
   "id": "de01e120",
   "metadata": {},
   "source": [
    "The missing indices are complete slices. In the above example, A[1] is equivalent to A[1, :]."
   ]
  },
  {
   "cell_type": "markdown",
   "id": "6652d0c9",
   "metadata": {},
   "source": [
    "### Iterating over multidimensional arrays is done with respect to the first axis, so in the example below we iterate trough the rows. If you would like to iterate through the array *elementwise*, how would you do that?"
   ]
  },
  {
   "cell_type": "code",
   "execution_count": 108,
   "id": "9459864f",
   "metadata": {},
   "outputs": [
    {
     "data": {
      "text/plain": [
       "array([[ 1,  2,  3,  4,  5],\n",
       "       [ 6,  7,  8,  9, 10],\n",
       "       [11, 12, 13, 14, 15]])"
      ]
     },
     "execution_count": 108,
     "metadata": {},
     "output_type": "execute_result"
    }
   ],
   "source": [
    "A"
   ]
  },
  {
   "cell_type": "code",
   "execution_count": 109,
   "id": "a671bb5a",
   "metadata": {},
   "outputs": [
    {
     "name": "stdout",
     "output_type": "stream",
     "text": [
      "[1 2 3 4 5]\n",
      "[ 6  7  8  9 10]\n",
      "[11 12 13 14 15]\n"
     ]
    }
   ],
   "source": [
    "for i in A:\n",
    "    print(i)"
   ]
  },
  {
   "cell_type": "code",
   "execution_count": 110,
   "id": "f4e443a0",
   "metadata": {},
   "outputs": [
    {
     "name": "stdout",
     "output_type": "stream",
     "text": [
      "1\n",
      "2\n",
      "3\n",
      "4\n",
      "5\n",
      "6\n",
      "7\n",
      "8\n",
      "9\n",
      "10\n",
      "11\n",
      "12\n",
      "13\n",
      "14\n",
      "15\n"
     ]
    }
   ],
   "source": [
    "for i in A.flat:\n",
    "    print(i)"
   ]
  },
  {
   "cell_type": "markdown",
   "id": "608a2583",
   "metadata": {},
   "source": [
    "### Explain what the code below does. More specifically, b has three axes - what does this mean? "
   ]
  },
  {
   "cell_type": "code",
   "execution_count": 111,
   "id": "f8f9b26f",
   "metadata": {},
   "outputs": [
    {
     "name": "stdout",
     "output_type": "stream",
     "text": [
      "[ 0  1  2  3  4  5  6  7  8  9 10 11 12 13 14 15 16 17 18 19 20 21 22 23\n",
      " 24 25 26 27 28 29]\n",
      "\n",
      "[[[ 0  1  2  3  4]\n",
      "  [ 5  6  7  8  9]\n",
      "  [10 11 12 13 14]]\n",
      "\n",
      " [[15 16 17 18 19]\n",
      "  [20 21 22 23 24]\n",
      "  [25 26 27 28 29]]]\n"
     ]
    }
   ],
   "source": [
    "a = np.arange(30)\n",
    "b = a.reshape((2, 3, -1))\n",
    "print(a)\n",
    "print()\n",
    "\n",
    "print(b)"
   ]
  },
  {
   "cell_type": "markdown",
   "id": "863a45df",
   "metadata": {},
   "source": [
    "Line 1 returns an array of 30 elements in one axis.\n",
    "Line 2 reshapes the array to three dimensions, with, respectively, two and three elements on the first two axes, the number of elements on the third axis, given as -1, is automatically calculated."
   ]
  },
  {
   "cell_type": "markdown",
   "id": "ab5933d5",
   "metadata": {},
   "source": [
    "### Broadcasting\n",
    "**Read the following link about broadcasting: https://numpy.org/doc/stable/user/basics.broadcasting.html#basics-broadcasting**"
   ]
  },
  {
   "cell_type": "markdown",
   "id": "039805ba",
   "metadata": {},
   "source": [
    "# Remark on Broadcasting when doing Linear Algebra calculations in Python. "
   ]
  },
  {
   "cell_type": "markdown",
   "id": "c4bcc147",
   "metadata": {},
   "source": [
    "### From the mathematical rules of matrix addition, the operation below (m1 + m2) does not make sense. The reason is that matrix addition requires two matrices of the same size. In Python however, it works due to broadcasting rules in NumPy. So you must be careful when doing Linear Algebra calculations in Python since they do not follow the \"mathematical rules\". This can however easily be handled by doing some simple programming, for example validating that two matrices have the same shape is easy if you for instance want to add two matrices. "
   ]
  },
  {
   "cell_type": "code",
   "execution_count": 112,
   "id": "1fd46778",
   "metadata": {},
   "outputs": [
    {
     "name": "stdout",
     "output_type": "stream",
     "text": [
      "[[2 3]\n",
      " [4 5]]\n"
     ]
    }
   ],
   "source": [
    "m1 = np.array([[1, 2], [3, 4]])\n",
    "m2 = np.array([1, 1])\n",
    "print(m1 + m2)"
   ]
  },
  {
   "cell_type": "markdown",
   "id": "047d6576",
   "metadata": {},
   "source": [
    "### The example below would also not be allowed if following the \"mathematical rules\" in Linear Algebra. But it works due to broadcasting in NumPy. "
   ]
  },
  {
   "cell_type": "code",
   "execution_count": 113,
   "id": "5e6ef2e4",
   "metadata": {},
   "outputs": [
    {
     "name": "stdout",
     "output_type": "stream",
     "text": [
      "[2 3 4]\n"
     ]
    }
   ],
   "source": [
    "v1 = np.array([1, 2, 3])\n",
    "print(v1 + 1)"
   ]
  },
  {
   "cell_type": "code",
   "execution_count": 114,
   "id": "e2cbae26",
   "metadata": {},
   "outputs": [
    {
     "name": "stdout",
     "output_type": "stream",
     "text": [
      "[[1 2]\n",
      " [3 4]]\n",
      "[2 2]\n"
     ]
    }
   ],
   "source": [
    "A = np.arange(1, 5).reshape(2,2)\n",
    "print(A)\n",
    "\n",
    "b = np.array([2, 2])\n",
    "print(b)"
   ]
  },
  {
   "cell_type": "markdown",
   "id": "b63a3081-d976-4d9f-bfd0-a63917e79f7d",
   "metadata": {},
   "source": [
    "**Now you are going to create a function that can be reused every time you add or multiply matrices. The function is created so that we do the addition and multiplication according to the rules of vector- and matrix algebra.**\n",
    "\n",
    "**Create a function \"add_mult_matrices\" that takes two matrices as input arguments (validate that the input are of the type numpy.ndarray by using the isinstance function), a third argument that is either 'add' or 'multiply' that specifies if you want to add or multiply the matrices (validate that the third argument is either 'add' or 'multiply'). When doing matrix addition, validate that the matrices have the same size. When doing matrix multiplication, validate that the sizes conform (i.e. number of columns in the first matrix is equal to the number of rows in the second matrix).**"
   ]
  },
  {
   "cell_type": "markdown",
   "id": "722fd5cd",
   "metadata": {},
   "source": [
    "# Vector- and matrix algebra Exercises"
   ]
  },
  {
   "cell_type": "code",
   "execution_count": 129,
   "id": "3506f977-ac0a-473f-85bc-eec9f35dc498",
   "metadata": {},
   "outputs": [
    {
     "name": "stdout",
     "output_type": "stream",
     "text": [
      "[[3 5]\n",
      " [7 9]]\n"
     ]
    }
   ],
   "source": [
    "import numpy as np\n",
    "\n",
    "def add_mult_matrices(A, B, add_mult):\n",
    "    A = np.array(A)\n",
    "    B = np.array(B)\n",
    "    \n",
    "    # Validation with isinstance was asked for but is redundant because the input is converted to numpy array.\n",
    "    if not isinstance(A, np.ndarray):\n",
    "        return 'A is not a numpy array'\n",
    "    if not isinstance(B, np.ndarray):\n",
    "        return 'B is not a numpy array'\n",
    "    \n",
    "    if add_mult == 'add' and A.shape != B.shape:\n",
    "        print('Matrices must be of the same shape to add')\n",
    "    elif add_mult == 'add':        \n",
    "        return A + B\n",
    "    elif add_mult == 'multiply' and A.shape[1] != B.shape[0]:\n",
    "        return 'Number of columns in A must be equal to the number of rows in B to multiply'\n",
    "    elif add_mult == 'multiply':\n",
    "        return A @ B\n",
    "    else:\n",
    "        return 'Choose add or multiply'\n",
    "\n",
    "A = [[1, 2], [3, 4]]\n",
    "B = [[2, 3], [4, 5]]\n",
    "add_mult = 'add'\n",
    "\n",
    "print(add_mult_matrices(A, B, add_mult))"
   ]
  },
  {
   "cell_type": "markdown",
   "id": "8dad82d0-2359-4dff-8f5b-a57d3e34103c",
   "metadata": {},
   "source": [
    "### Solve all the exercises in chapter 10.1 in the book \"Matematik för yrkeshögskolan\". "
   ]
  },
  {
   "cell_type": "markdown",
   "id": "89df88af-3668-4d98-a0a4-e6d92eea0f89",
   "metadata": {
    "vscode": {
     "languageId": "raw"
    }
   },
   "source": [
    "**10.1.1.** \\\n",
    "Definiera vektorn $ \\vec{x} $ enligt nedan.\n",
    ">$ \\vec{x} = (4, 3) $\n",
    "\n",
    "- a) Vilken dimension har vektorn $ \\vec{x} $?\n",
    "- b) Beräkna $ 5 \\vec{x} $\n",
    "- c) Beräkna $ 3 \\vec{x} $\n",
    "- d) Beräkna $ 5 \\vec{x} + 3 \\vec{x} $\n",
    "- e) Beräkna $ 8 \\vec{x} $\n",
    "- f) Beräkna $ 4 \\vec{x} - \\vec{x} $\n",
    "- g) Beräkna $ \\vec{x}^T $, vilken blir den nya dimensionen efter att transponeringen utförts?\n",
    "- h) Är $ \\vec{x} + \\vec{x}^T $ definierat?\n",
    "- i) Beräkna $ ||\\vec{x}|| $\n",
    "        "
   ]
  },
  {
   "cell_type": "markdown",
   "id": "02491790",
   "metadata": {},
   "source": [
    "a) (1x2)"
   ]
  },
  {
   "cell_type": "code",
   "execution_count": 116,
   "id": "5e6b0c10",
   "metadata": {},
   "outputs": [
    {
     "data": {
      "text/plain": [
       "(2,)"
      ]
     },
     "execution_count": 116,
     "metadata": {},
     "output_type": "execute_result"
    }
   ],
   "source": [
    "x = np.array([4, 3])\n",
    "x.shape"
   ]
  },
  {
   "cell_type": "markdown",
   "id": "b10ec4c8",
   "metadata": {},
   "source": [
    "b) $ 5 \\vec{x} = 5(4, 3) = (20, 15) $"
   ]
  },
  {
   "cell_type": "code",
   "execution_count": 117,
   "id": "efb5c264",
   "metadata": {},
   "outputs": [
    {
     "data": {
      "text/plain": [
       "array([20, 15])"
      ]
     },
     "execution_count": 117,
     "metadata": {},
     "output_type": "execute_result"
    }
   ],
   "source": [
    "5 * x"
   ]
  },
  {
   "cell_type": "markdown",
   "id": "bc448a33",
   "metadata": {},
   "source": [
    "c) $ 3 \\vec{x} = 3(4, 3) = (12, 9) $"
   ]
  },
  {
   "cell_type": "code",
   "execution_count": 118,
   "id": "2fb1f526",
   "metadata": {},
   "outputs": [
    {
     "data": {
      "text/plain": [
       "array([12,  9])"
      ]
     },
     "execution_count": 118,
     "metadata": {},
     "output_type": "execute_result"
    }
   ],
   "source": [
    "3 * x"
   ]
  },
  {
   "cell_type": "markdown",
   "id": "bf9f9fd3",
   "metadata": {},
   "source": [
    "d) $ 5 \\vec{x} + 3 \\vec{x} = (20, 15) - (12, 9) = (32, 24) $"
   ]
  },
  {
   "cell_type": "code",
   "execution_count": 119,
   "id": "01c851fb",
   "metadata": {},
   "outputs": [
    {
     "data": {
      "text/plain": [
       "array([32, 24])"
      ]
     },
     "execution_count": 119,
     "metadata": {},
     "output_type": "execute_result"
    }
   ],
   "source": [
    "5 * x + 3 * x"
   ]
  },
  {
   "cell_type": "markdown",
   "id": "bc05fb9a",
   "metadata": {},
   "source": [
    "e) $ 8 \\vec{x} = 8(4, 3) = (32, 24) $"
   ]
  },
  {
   "cell_type": "code",
   "execution_count": 120,
   "id": "fc03f3f6",
   "metadata": {},
   "outputs": [
    {
     "data": {
      "text/plain": [
       "array([32, 24])"
      ]
     },
     "execution_count": 120,
     "metadata": {},
     "output_type": "execute_result"
    }
   ],
   "source": [
    "8 * x"
   ]
  },
  {
   "cell_type": "markdown",
   "id": "7e8b7486",
   "metadata": {},
   "source": [
    "f) $ 4 \\vec{x} - \\vec{x} = 4(4, 3) - (4, 3) = (16, 12) - (4, 3) = (12, 9) $"
   ]
  },
  {
   "cell_type": "code",
   "execution_count": 121,
   "id": "5e5379e8",
   "metadata": {},
   "outputs": [
    {
     "data": {
      "text/plain": [
       "array([12,  9])"
      ]
     },
     "execution_count": 121,
     "metadata": {},
     "output_type": "execute_result"
    }
   ],
   "source": [
    "4 * x - x"
   ]
  },
  {
   "cell_type": "markdown",
   "id": "477bec57",
   "metadata": {
    "vscode": {
     "languageId": "tex"
    }
   },
   "source": [
    "g) (2x1) \\\n",
    "$ \\vec{x^T} = \\begin{pmatrix}\n",
    "4 \\\\\n",
    "3\n",
    "\\end{pmatrix} $"
   ]
  },
  {
   "cell_type": "code",
   "execution_count": 127,
   "id": "32351020",
   "metadata": {},
   "outputs": [
    {
     "name": "stdout",
     "output_type": "stream",
     "text": [
      "[4 3]\n"
     ]
    }
   ],
   "source": [
    "y = x.T\n",
    "print(y)"
   ]
  },
  {
   "cell_type": "markdown",
   "id": "b36dd9c1",
   "metadata": {},
   "source": [
    "h) $ \\vec{x} + \\vec{x}^T $ är inte definierat."
   ]
  },
  {
   "cell_type": "markdown",
   "id": "9ddc9bf9",
   "metadata": {},
   "source": [
    "i) $ ||\\vec{x}|| =  \\sqrt{4^2 + 3^2} = \\sqrt{16 + 9} = 5 $"
   ]
  },
  {
   "cell_type": "code",
   "execution_count": 128,
   "id": "0f5452cb",
   "metadata": {},
   "outputs": [
    {
     "data": {
      "text/plain": [
       "5.0"
      ]
     },
     "execution_count": 128,
     "metadata": {},
     "output_type": "execute_result"
    }
   ],
   "source": [
    "np.linalg.norm(x)"
   ]
  },
  {
   "cell_type": "markdown",
   "id": "2e73642f",
   "metadata": {},
   "source": [
    "**10.1.2.** \\\n",
    "Definiera vektorn $ \\vec{v} $ enligt nedan. \\\n",
    "$ \\vec{v} = \\begin{pmatrix}\n",
    "3 \\\\\n",
    "7 \\\\\n",
    "0 \\\\\n",
    "11\n",
    "\\end{pmatrix} $\n",
    "- a) Vilken dimension har vektorn $ \\vec{v} $?\n",
    "- b) Beräkna $ 2 \\vec{v} $\n",
    "- c) Beräkna $ 5 \\vec{v} + 2 \\vec{v} $\n",
    "- d) Beräkna $ 4 \\vec{v} - 2 \\vec{v} $\n",
    "- e) Beräkna $ \\vec{v}^T $. vilken blir den nya dimensionen efter att transponeringen utförts?\n",
    "- f) Beräkna $ || \\vec{v} || $\n",
    "\n",
    "\n"
   ]
  },
  {
   "cell_type": "markdown",
   "id": "96e17816",
   "metadata": {},
   "source": [
    "a) (4x1)"
   ]
  },
  {
   "cell_type": "code",
   "execution_count": 132,
   "id": "7e399c28",
   "metadata": {},
   "outputs": [
    {
     "data": {
      "text/plain": [
       "array([[ 3],\n",
       "       [ 7],\n",
       "       [ 0],\n",
       "       [11]])"
      ]
     },
     "execution_count": 132,
     "metadata": {},
     "output_type": "execute_result"
    }
   ],
   "source": [
    "v = np.array([3, 7, 0, 11])\n",
    "v.reshape(4, 1)"
   ]
  },
  {
   "cell_type": "markdown",
   "id": "3b701fcb",
   "metadata": {},
   "source": [
    "b) $ 2 \\vec{v} = \\begin{pmatrix}\n",
    "6 \\\\\n",
    "14 \\\\\n",
    "0 \\\\\n",
    "22\n",
    "\\end{pmatrix} $"
   ]
  },
  {
   "cell_type": "code",
   "execution_count": 133,
   "id": "ba1530fe",
   "metadata": {},
   "outputs": [
    {
     "data": {
      "text/plain": [
       "array([ 6, 14,  0, 22])"
      ]
     },
     "execution_count": 133,
     "metadata": {},
     "output_type": "execute_result"
    }
   ],
   "source": [
    "2 * v"
   ]
  },
  {
   "cell_type": "markdown",
   "id": "a2d4e44f",
   "metadata": {},
   "source": [
    "c) $ 5 \\vec{v} + 2 \\vec{v} = 5 \\begin{pmatrix}\n",
    "3 \\\\\n",
    "7 \\\\\n",
    "0 \\\\\n",
    "11\n",
    "\\end{pmatrix} + 2 \\begin{pmatrix}\n",
    "3 \\\\\n",
    "7 \\\\\n",
    "0 \\\\\n",
    "11\n",
    "\\end{pmatrix} = \\begin{pmatrix}\n",
    "21 \\\\\n",
    "49 \\\\\n",
    "0 \\\\\n",
    "77\n",
    "\\end{pmatrix}\n",
    "$"
   ]
  },
  {
   "cell_type": "code",
   "execution_count": 134,
   "id": "a8789322",
   "metadata": {},
   "outputs": [
    {
     "data": {
      "text/plain": [
       "array([21, 49,  0, 77])"
      ]
     },
     "execution_count": 134,
     "metadata": {},
     "output_type": "execute_result"
    }
   ],
   "source": [
    "5 * v + 2 * v"
   ]
  },
  {
   "cell_type": "markdown",
   "id": "96581a6d",
   "metadata": {},
   "source": [
    "d) $ 4 \\vec{v} - 2 \\vec{v} = 4 \\begin{pmatrix}\n",
    "3 \\\\\n",
    "7 \\\\\n",
    "0 \\\\\n",
    "11\n",
    "\\end{pmatrix} - 2 \\begin{pmatrix}\n",
    "3 \\\\\n",
    "7 \\\\\n",
    "0 \\\\\n",
    "11\n",
    "\\end{pmatrix} = \\begin{pmatrix}\n",
    "12 \\\\\n",
    "28 \\\\\n",
    "0 \\\\\n",
    "44\n",
    "\\end{pmatrix} - \\begin{pmatrix}\n",
    "6 \\\\\n",
    "14 \\\\\n",
    "0 \\\\\n",
    "22 \n",
    "\\end{pmatrix} = \\begin{pmatrix}\n",
    "6 \\\\\n",
    "14 \\\\\n",
    "0 \\\\\n",
    "22\n",
    "\\end{pmatrix}\n",
    "$"
   ]
  },
  {
   "cell_type": "code",
   "execution_count": 135,
   "id": "e58f930d",
   "metadata": {},
   "outputs": [
    {
     "data": {
      "text/plain": [
       "array([ 6, 14,  0, 22])"
      ]
     },
     "execution_count": 135,
     "metadata": {},
     "output_type": "execute_result"
    }
   ],
   "source": [
    "4 * v - 2 * v"
   ]
  },
  {
   "cell_type": "markdown",
   "id": "cec16e95",
   "metadata": {},
   "source": [
    "e) $ \\vec{v}^T = (3, 7, 0, 11) $, dimensionen (1x4)"
   ]
  },
  {
   "cell_type": "code",
   "execution_count": 137,
   "id": "34811d7b",
   "metadata": {},
   "outputs": [
    {
     "name": "stdout",
     "output_type": "stream",
     "text": [
      "[ 3  7  0 11]\n"
     ]
    }
   ],
   "source": [
    "z = v.T\n",
    "print(z)"
   ]
  },
  {
   "cell_type": "markdown",
   "id": "34874fab",
   "metadata": {},
   "source": [
    "f) $ || \\vec{v} || = \\sqrt{3^2 + 7^2 + 0^2 + 11^2} = \\sqrt{9 + 49 + 121} = \\sqrt{179}  \\approx{13.38}$"
   ]
  },
  {
   "cell_type": "code",
   "execution_count": 138,
   "id": "1cf80d0e",
   "metadata": {},
   "outputs": [
    {
     "data": {
      "text/plain": [
       "13.379088160259652"
      ]
     },
     "execution_count": 138,
     "metadata": {},
     "output_type": "execute_result"
    }
   ],
   "source": [
    "np.linalg.norm(v)"
   ]
  },
  {
   "cell_type": "markdown",
   "id": "5681042d",
   "metadata": {},
   "source": [
    "**10.1.3.** \\\n",
    "Definiera vektorerna $ \\vec{v}_1 = (4, 3, 1, 5) $ och $ \\vec{v}_2 = (2, 3, 1, 1) $.\n",
    "- a) Beräkna $ || \\vec{v}_1 || $.\n",
    "- b) Beräkna $ || \\vec{v}_1 - \\vec{v}_2 || $.\n"
   ]
  },
  {
   "cell_type": "markdown",
   "id": "aab36f21",
   "metadata": {},
   "source": [
    "a) $ || \\vec{v}_1 || = \\sqrt{4^2 + 3^2 + 1^2 + 5^2} = \\sqrt{51} \\approx{7.14} $"
   ]
  },
  {
   "cell_type": "code",
   "execution_count": 140,
   "id": "3edfa268",
   "metadata": {},
   "outputs": [
    {
     "data": {
      "text/plain": [
       "7.14142842854285"
      ]
     },
     "execution_count": 140,
     "metadata": {},
     "output_type": "execute_result"
    }
   ],
   "source": [
    "v1 = np.array([4, 3, 1, 5])\n",
    "v2 = np.array([2, 3, 1, 1])\n",
    "np.linalg.norm(v1)"
   ]
  },
  {
   "cell_type": "markdown",
   "id": "712a19f2",
   "metadata": {},
   "source": [
    "b) $ || \\vec{v}_1 - \\vec{v}_2 || = \\sqrt{(4-2)^2 + (3-3)^2 + (1-1)^2 + (5-1)^1} = \\sqrt{20} \\approx{4.47} $"
   ]
  },
  {
   "cell_type": "code",
   "execution_count": 141,
   "id": "b62db2d6",
   "metadata": {},
   "outputs": [
    {
     "data": {
      "text/plain": [
       "4.47213595499958"
      ]
     },
     "execution_count": 141,
     "metadata": {},
     "output_type": "execute_result"
    }
   ],
   "source": [
    "np.linalg.norm(v1 - v2)"
   ]
  },
  {
   "cell_type": "markdown",
   "id": "75c98984-1f88-4df1-b850-d2466de444a5",
   "metadata": {},
   "source": [
    "### Solve all the exercises, except 10.2.4, in chapter 10.2 in the book \"Matematik för yrkeshögskolan\". "
   ]
  },
  {
   "cell_type": "markdown",
   "id": "0f509a24",
   "metadata": {},
   "source": [
    "**10.2.1** \\\n",
    "Definiera matriserna: \\\n",
    "&nbsp; \\\n",
    "$ A = \\begin{bmatrix}\n",
    "2 & 1 & -1 \\\\\n",
    "1 & -1 & 1\n",
    "\\end{bmatrix} $, $ B = \\begin{bmatrix}\n",
    "4 & -2 & 1 \\\\\n",
    "2 & -4 & -2\n",
    "\\end{bmatrix} $, $ C = \\begin{bmatrix}\n",
    "1 & 2 \\\\\n",
    "2 & 1\n",
    "\\end{bmatrix} $, \\\n",
    "&nbsp; \\\n",
    "$ D = \\begin{bmatrix}\n",
    "3 & 4 \\\\\n",
    "4 & 3\n",
    "\\end{bmatrix} $, $ E = \\begin{bmatrix}\n",
    "1 \\\\\n",
    "2\n",
    "\\end{bmatrix} $, $ I = \\begin{bmatrix}\n",
    "1 & 0 \\\\\n",
    "0 & 1\n",
    "\\end{bmatrix}\n",
    "$ \n",
    "\n",
    "Om det är definierat, utför följande beräkningar:\n",
    "- a) 2A\n",
    "- b) B - 2A\n",
    "- c) 3C - 2E\n",
    "- d) 2D - 3C\n",
    "- e) D<sup>T</sup> + 2D\n",
    "- f) 2C<sup>T</sup> + 2D\n",
    "- g) A<sup>T</sup> - B\n",
    "- h) AC\n",
    "- i) CD\n",
    "- j) CB\n",
    "- k) CI\n",
    "- l) AB<sup>T</sup>\n",
    "\n",
    "\n"
   ]
  },
  {
   "cell_type": "code",
   "execution_count": 151,
   "id": "c45d1dea",
   "metadata": {},
   "outputs": [],
   "source": [
    "A = np.array([[2, 1, -1], [1, -1, 1]])\n",
    "B = np.array([[4, -2, 1], [2, -4, -2]])\n",
    "C = np.array([[1, 2], [2, 1]])\n",
    "D = np.array([[3, 4], [4, 3]])\n",
    "E = np.array([[1, 2]])\n",
    "I = np.array([[1, 0], [0, 1]])\n"
   ]
  },
  {
   "cell_type": "markdown",
   "id": "8d4e7efc",
   "metadata": {},
   "source": [
    "a)"
   ]
  },
  {
   "cell_type": "code",
   "execution_count": 152,
   "id": "65371610-16e1-48b2-b7fb-65e49002608a",
   "metadata": {},
   "outputs": [
    {
     "data": {
      "text/plain": [
       "array([[ 4,  2, -2],\n",
       "       [ 2, -2,  2]])"
      ]
     },
     "execution_count": 152,
     "metadata": {},
     "output_type": "execute_result"
    }
   ],
   "source": [
    "2 * A"
   ]
  },
  {
   "cell_type": "markdown",
   "id": "2d412f96",
   "metadata": {},
   "source": [
    "b)"
   ]
  },
  {
   "cell_type": "code",
   "execution_count": 153,
   "id": "280b64be",
   "metadata": {},
   "outputs": [
    {
     "data": {
      "text/plain": [
       "array([[ 0, -4,  3],\n",
       "       [ 0, -2, -4]])"
      ]
     },
     "execution_count": 153,
     "metadata": {},
     "output_type": "execute_result"
    }
   ],
   "source": [
    "B - 2 * A"
   ]
  },
  {
   "cell_type": "markdown",
   "id": "7d4fcb3e",
   "metadata": {},
   "source": [
    "c)"
   ]
  },
  {
   "cell_type": "code",
   "execution_count": 154,
   "id": "1942a7eb",
   "metadata": {},
   "outputs": [
    {
     "data": {
      "text/plain": [
       "array([[ 1,  2],\n",
       "       [ 4, -1]])"
      ]
     },
     "execution_count": 154,
     "metadata": {},
     "output_type": "execute_result"
    }
   ],
   "source": [
    "3 * C - 2 * E"
   ]
  },
  {
   "cell_type": "markdown",
   "id": "d5424374",
   "metadata": {},
   "source": [
    "d)"
   ]
  },
  {
   "cell_type": "code",
   "execution_count": 155,
   "id": "247912fe",
   "metadata": {},
   "outputs": [
    {
     "data": {
      "text/plain": [
       "array([[3, 2],\n",
       "       [2, 3]])"
      ]
     },
     "execution_count": 155,
     "metadata": {},
     "output_type": "execute_result"
    }
   ],
   "source": [
    "2 * D - 3 * C"
   ]
  },
  {
   "cell_type": "markdown",
   "id": "7f7435d4",
   "metadata": {},
   "source": [
    "e)"
   ]
  },
  {
   "cell_type": "code",
   "execution_count": 156,
   "id": "8167132c",
   "metadata": {},
   "outputs": [
    {
     "data": {
      "text/plain": [
       "array([[ 9, 12],\n",
       "       [12,  9]])"
      ]
     },
     "execution_count": 156,
     "metadata": {},
     "output_type": "execute_result"
    }
   ],
   "source": [
    "D.T + 2 * D"
   ]
  },
  {
   "cell_type": "markdown",
   "id": "13825dc2",
   "metadata": {},
   "source": [
    "f)"
   ]
  },
  {
   "cell_type": "code",
   "execution_count": 157,
   "id": "7f459ad8",
   "metadata": {},
   "outputs": [
    {
     "data": {
      "text/plain": [
       "array([[-4, -4],\n",
       "       [-4, -4]])"
      ]
     },
     "execution_count": 157,
     "metadata": {},
     "output_type": "execute_result"
    }
   ],
   "source": [
    "2 * C.T - 2 * D.T"
   ]
  },
  {
   "cell_type": "markdown",
   "id": "bd934aa7",
   "metadata": {},
   "source": [
    "g) A<sup>T</sup> - B är inte definierat."
   ]
  },
  {
   "cell_type": "markdown",
   "id": "a99a5b0d",
   "metadata": {},
   "source": [
    "h) AC är inte definierat"
   ]
  },
  {
   "cell_type": "markdown",
   "id": "04da5160",
   "metadata": {},
   "source": [
    "i) "
   ]
  },
  {
   "cell_type": "code",
   "execution_count": 160,
   "id": "6e739931",
   "metadata": {},
   "outputs": [
    {
     "data": {
      "text/plain": [
       "array([[11, 10],\n",
       "       [10, 11]])"
      ]
     },
     "execution_count": 160,
     "metadata": {},
     "output_type": "execute_result"
    }
   ],
   "source": [
    "C @ D"
   ]
  },
  {
   "cell_type": "markdown",
   "id": "8365cb8b",
   "metadata": {},
   "source": [
    "j)"
   ]
  },
  {
   "cell_type": "code",
   "execution_count": 161,
   "id": "5f732faf",
   "metadata": {},
   "outputs": [
    {
     "data": {
      "text/plain": [
       "array([[  8, -10,  -3],\n",
       "       [ 10,  -8,   0]])"
      ]
     },
     "execution_count": 161,
     "metadata": {},
     "output_type": "execute_result"
    }
   ],
   "source": [
    "C @ B"
   ]
  },
  {
   "cell_type": "markdown",
   "id": "118e7263",
   "metadata": {},
   "source": [
    "k)"
   ]
  },
  {
   "cell_type": "code",
   "execution_count": 162,
   "id": "5069e1aa",
   "metadata": {},
   "outputs": [
    {
     "data": {
      "text/plain": [
       "array([[1, 2],\n",
       "       [2, 1]])"
      ]
     },
     "execution_count": 162,
     "metadata": {},
     "output_type": "execute_result"
    }
   ],
   "source": [
    "C @ I"
   ]
  },
  {
   "cell_type": "markdown",
   "id": "c13740f0",
   "metadata": {},
   "source": [
    "l)"
   ]
  },
  {
   "cell_type": "code",
   "execution_count": 163,
   "id": "c55c56f5",
   "metadata": {},
   "outputs": [
    {
     "data": {
      "text/plain": [
       "array([[5, 2],\n",
       "       [7, 4]])"
      ]
     },
     "execution_count": 163,
     "metadata": {},
     "output_type": "execute_result"
    }
   ],
   "source": [
    "A @ B.T"
   ]
  },
  {
   "cell_type": "markdown",
   "id": "09daef06",
   "metadata": {},
   "source": [
    "**10.2.2.** \\\n",
    "Definiera matrisen \\\n",
    "$ A = \\begin{bmatrix}\n",
    "2 & 3 & 4 \\\\\n",
    "5 & 4 & 1\n",
    "\\end{bmatrix}\n",
    "$\n",
    "\n",
    "Beräkna AA<sup>T</sup>\n"
   ]
  },
  {
   "cell_type": "code",
   "execution_count": 164,
   "id": "6e3ded37",
   "metadata": {},
   "outputs": [
    {
     "data": {
      "text/plain": [
       "array([[29, 26],\n",
       "       [26, 42]])"
      ]
     },
     "execution_count": 164,
     "metadata": {},
     "output_type": "execute_result"
    }
   ],
   "source": [
    "A = np.array([[2, 3, 4], [5, 4, 1]])\n",
    "\n",
    "A @ A.T"
   ]
  },
  {
   "cell_type": "markdown",
   "id": "182808fe",
   "metadata": {},
   "source": [
    "**10.2.3** \\\n",
    "Definiera matriserna \\\n",
    "$ A = \\begin{bmatrix}\n",
    "1 & 2 \\\\\n",
    "2 & 4\n",
    "\\end{bmatrix}\n",
    "$, $ B = \\begin{bmatrix}\n",
    "2 & 1 \\\\\n",
    "1 & 3\n",
    "\\end{bmatrix} \n",
    "$, $ C = \\begin{bmatrix}\n",
    "4 & 3 \\\\\n",
    "0 & 2\n",
    "\\end{bmatrix}\n",
    "$\n",
    "\n",
    "Verifiera att AB = AC men att B != C."
   ]
  },
  {
   "cell_type": "code",
   "execution_count": 165,
   "id": "097d412f",
   "metadata": {},
   "outputs": [],
   "source": [
    "A = np.array([[1, 2], [2, 4]])\n",
    "B = np.array([[2, 1], [1, 3]])\n",
    "C = np.array([[4, 3], [0, 2]])"
   ]
  },
  {
   "cell_type": "code",
   "execution_count": 166,
   "id": "631e2186",
   "metadata": {},
   "outputs": [
    {
     "data": {
      "text/plain": [
       "array([[ 4,  7],\n",
       "       [ 8, 14]])"
      ]
     },
     "execution_count": 166,
     "metadata": {},
     "output_type": "execute_result"
    }
   ],
   "source": [
    "A @ B"
   ]
  },
  {
   "cell_type": "code",
   "execution_count": 167,
   "id": "c6c5be64",
   "metadata": {},
   "outputs": [
    {
     "data": {
      "text/plain": [
       "array([[ 4,  7],\n",
       "       [ 8, 14]])"
      ]
     },
     "execution_count": 167,
     "metadata": {},
     "output_type": "execute_result"
    }
   ],
   "source": [
    "A @ C"
   ]
  },
  {
   "cell_type": "code",
   "execution_count": 171,
   "id": "311a33c2",
   "metadata": {},
   "outputs": [
    {
     "data": {
      "text/plain": [
       "True"
      ]
     },
     "execution_count": 171,
     "metadata": {},
     "output_type": "execute_result"
    }
   ],
   "source": [
    "np.array_equal(A @ B, A @ C)"
   ]
  },
  {
   "cell_type": "code",
   "execution_count": 172,
   "id": "acd36286",
   "metadata": {},
   "outputs": [
    {
     "data": {
      "text/plain": [
       "False"
      ]
     },
     "execution_count": 172,
     "metadata": {},
     "output_type": "execute_result"
    }
   ],
   "source": [
    "np.array_equal(B, C)"
   ]
  },
  {
   "cell_type": "markdown",
   "id": "92fbfe70",
   "metadata": {},
   "source": [
    "End of chapter 10 exercises."
   ]
  },
  {
   "cell_type": "markdown",
   "id": "6a4a524f",
   "metadata": {},
   "source": [
    "### Copies and Views\n",
    "Read the following link: https://numpy.org/doc/stable/user/basics.copies.html"
   ]
  },
  {
   "cell_type": "markdown",
   "id": "6cbbeaf7",
   "metadata": {},
   "source": [
    "**Basic indexing creates a view, How can you check if v1 and v2 is a view or copy? If you change the last element in v2 to 123, will the last element in v1 be changed? Why?**"
   ]
  },
  {
   "cell_type": "code",
   "execution_count": 173,
   "id": "5b9ef4df",
   "metadata": {},
   "outputs": [
    {
     "name": "stdout",
     "output_type": "stream",
     "text": [
      "[0 1 2 3]\n",
      "[2 3]\n"
     ]
    }
   ],
   "source": [
    "v1 = np.arange(4)\n",
    "v2 = v1[-2:]\n",
    "print(v1)\n",
    "print(v2)"
   ]
  },
  {
   "cell_type": "code",
   "execution_count": 174,
   "id": "d2440489",
   "metadata": {},
   "outputs": [
    {
     "name": "stdout",
     "output_type": "stream",
     "text": [
      "None\n",
      "[0 1 2 3]\n"
     ]
    }
   ],
   "source": [
    "# The base attribute of a view returns the original array while it returns None for a copy.\n",
    "print(v1.base)\n",
    "print(v2.base)"
   ]
  },
  {
   "cell_type": "code",
   "execution_count": 175,
   "id": "c8752807",
   "metadata": {},
   "outputs": [
    {
     "name": "stdout",
     "output_type": "stream",
     "text": [
      "[  0   1   2 123]\n",
      "[  2 123]\n"
     ]
    }
   ],
   "source": [
    "# The last element in v1 will be changed aswell since v2 is a view, meaning they share the same data buffer.\n",
    "v2[-1] = 123\n",
    "print(v1)\n",
    "print(v2)"
   ]
  },
  {
   "cell_type": "code",
   "execution_count": null,
   "id": "3dd68221",
   "metadata": {},
   "outputs": [],
   "source": []
  }
 ],
 "metadata": {
  "kernelspec": {
   "display_name": "base",
   "language": "python",
   "name": "python3"
  },
  "language_info": {
   "codemirror_mode": {
    "name": "ipython",
    "version": 3
   },
   "file_extension": ".py",
   "mimetype": "text/x-python",
   "name": "python",
   "nbconvert_exporter": "python",
   "pygments_lexer": "ipython3",
   "version": "3.12.7"
  }
 },
 "nbformat": 4,
 "nbformat_minor": 5
}
