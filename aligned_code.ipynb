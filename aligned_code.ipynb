{
 "cells": [
  {
   "cell_type": "code",
   "execution_count": 1,
   "metadata": {},
   "outputs": [
    {
     "name": "stdout",
     "output_type": "stream",
     "text": [
      "\n",
      "class Square():                                                                 # Define the class Square\n",
      "    def __init__(self, side_length):                                            # Define the __init__ method with two attributes\n",
      "        self.side_length = side_length                                          # Assign the side_length attribute to the side_length argument\n",
      "    def perimeter(self):                                                        # Define the perimeter method\n",
      "        return self.side_length * 4                                             # Return the perimeter of the square, side length * 4\n",
      "    def area(self):                                                             # Define the area method\n",
      "        return self.side_length ** 2                                            # Return the area of the square, side length squared\n",
      "     \n",
      "my_square = Square(8)                                                           # Create an instance of the Square class with a side length of 8\n",
      "print(my_square.perimeter())                                                    # Print the perimeter of the square\n",
      "print(my_square.area())                                                         # Print the area of the square\n",
      "\n"
     ]
    }
   ],
   "source": [
    "import re\n",
    "\n",
    "def align_comments(code, column=80):\n",
    "    lines = code.split('\\n')\n",
    "    aligned_lines = []\n",
    "    \n",
    "    for line in lines:\n",
    "        if '#' in line:\n",
    "            code_part, comment_part = line.split('#', 1)\n",
    "            code_part = code_part.rstrip()\n",
    "            spaces_needed = column - len(code_part) - 1\n",
    "            if spaces_needed > 0:\n",
    "                aligned_line = f\"{code_part} {' ' * spaces_needed}# {comment_part.strip()}\"\n",
    "            else:\n",
    "                aligned_line = f\"{code_part} # {comment_part.strip()}\"\n",
    "        else:\n",
    "            aligned_line = line\n",
    "        aligned_lines.append(aligned_line)\n",
    "    \n",
    "    return '\\n'.join(aligned_lines)\n",
    "\n",
    "# Example usage\n",
    "code = \"\"\"\n",
    "class Square():                                      # Define the class Square\n",
    "    def __init__(self, side_length):   # Define the __init__ method with two attributes\n",
    "        self.side_length = side_length  # Assign the side_length attribute to the side_length argument\n",
    "    def perimeter(self):                          # Define the perimeter method\n",
    "        return self.side_length * 4         # Return the perimeter of the square, side length * 4\n",
    "    def area(self):                                    # Define the area method\n",
    "        return self.side_length ** 2       # Return the area of the square, side length squared\n",
    "     \n",
    "my_square = Square(8)                      # Create an instance of the Square class with a side length of 8\n",
    "print(my_square.perimeter())          # Print the perimeter of the square\n",
    "print(my_square.area())                    # Print the area of the square\n",
    "\"\"\"\n",
    "\n",
    "aligned_code = align_comments(code, column=80)\n",
    "print(aligned_code)\n"
   ]
  }
 ],
 "metadata": {
  "kernelspec": {
   "display_name": "base",
   "language": "python",
   "name": "python3"
  },
  "language_info": {
   "codemirror_mode": {
    "name": "ipython",
    "version": 3
   },
   "file_extension": ".py",
   "mimetype": "text/x-python",
   "name": "python",
   "nbconvert_exporter": "python",
   "pygments_lexer": "ipython3",
   "version": "3.12.4"
  }
 },
 "nbformat": 4,
 "nbformat_minor": 2
}
