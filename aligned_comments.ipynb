{
 "cells": [
  {
   "cell_type": "code",
   "execution_count": 3,
   "metadata": {},
   "outputs": [
    {
     "name": "stdout",
     "output_type": "stream",
     "text": [
      "\n",
      "class FruitProduct:                                                   # Define a class named FruitProduct\n",
      "    \"\"A class representing fruit products in a grocery store.\"\"       # Docstring of the class\n",
      "    \n",
      "    def __init__(self, price, quantity):                              # Define the __init__ method with attributes price and quantity\n",
      "        self.price = price\n",
      "        self.quantity = quantity\n",
      "\n",
      "swedish_apples = FruitProduct(52, 1)                                  # Create an instance of Fruit Product\n",
      "\n",
      "print(FruitProduct.__doc__)                                           # Print the docstring of the class\n",
      "print(\"Price: \", swedish_apples.price, \", Quantity: \", swedish_apples.quantity) # Print the attributes of the instance\n",
      "print(type(swedish_apples))                                           # Print the type of the instance\n",
      "print(isinstance(swedish_apples, FruitProduct))                       # Check if the instance is of the class FruitProduct\n",
      "\n"
     ]
    }
   ],
   "source": [
    "import re\n",
    "\n",
    "def align_comments(code, column=70):\n",
    "    lines = code.split('\\n')\n",
    "    aligned_lines = []\n",
    "    \n",
    "    for line in lines:\n",
    "        if '#' in line:\n",
    "            code_part, comment_part = line.split('#', 1)\n",
    "            code_part = code_part.rstrip()\n",
    "            spaces_needed = column - len(code_part) - 1\n",
    "            if spaces_needed > 0:\n",
    "                aligned_line = f\"{code_part} {' ' * spaces_needed}# {comment_part.strip()}\"\n",
    "            else:\n",
    "                aligned_line = f\"{code_part} # {comment_part.strip()}\"\n",
    "        else:\n",
    "            aligned_line = line\n",
    "        aligned_lines.append(aligned_line)\n",
    "    \n",
    "    return '\\n'.join(aligned_lines)\n",
    "\n",
    "# Example usage\n",
    "code = \"\"\"\n",
    "class FruitProduct:                       # Define a class named FruitProduct\n",
    "    \"\"A class representing fruit products in a grocery store.\"\"  # Docstring of the class\n",
    "    \n",
    "    def __init__(self, price, quantity):       # Define the __init__ method with attributes price and quantity\n",
    "        self.price = price\n",
    "        self.quantity = quantity\n",
    "\n",
    "swedish_apples = FruitProduct(52, 1)      # Create an instance of Fruit Product\n",
    "\n",
    "print(FruitProduct.__doc__)           # Print the docstring of the class\n",
    "print(\"Price: \", swedish_apples.price, \", Quantity: \", swedish_apples.quantity)  # Print the attributes of the instance\n",
    "print(type(swedish_apples))                           # Print the type of the instance\n",
    "print(isinstance(swedish_apples, FruitProduct))       # Check if the instance is of the class FruitProduct     \n",
    "\"\"\"\n",
    "\n",
    "aligned_code = align_comments(code, column=70)\n",
    "print(aligned_code)\n"
   ]
  }
 ],
 "metadata": {
  "kernelspec": {
   "display_name": "base",
   "language": "python",
   "name": "python3"
  },
  "language_info": {
   "codemirror_mode": {
    "name": "ipython",
    "version": 3
   },
   "file_extension": ".py",
   "mimetype": "text/x-python",
   "name": "python",
   "nbconvert_exporter": "python",
   "pygments_lexer": "ipython3",
   "version": "3.12.4"
  }
 },
 "nbformat": 4,
 "nbformat_minor": 2
}
